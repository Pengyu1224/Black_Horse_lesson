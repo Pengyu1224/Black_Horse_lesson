{
 "cells": [
  {
   "cell_type": "code",
   "execution_count": 1,
   "metadata": {},
   "outputs": [
    {
     "name": "stdout",
     "output_type": "stream",
     "text": [
      "频繁项集： {1: {('frozen smoothie',): 475, ('green tea',): 991, ('shrimp',): 536, ('olive oil',): 494, ('mineral water',): 1788, ('low fat yogurt',): 574, ('burgers',): 654, ('eggs',): 1348, ('turkey',): 469, ('whole wheat rice',): 439, ('milk',): 972, ('french fries',): 1282, ('soup',): 379, ('frozen vegetables',): 715, ('spaghetti',): 1306, ('cookies',): 603, ('cooking oil',): 383, ('chocolate',): 1229, ('chicken',): 450, ('tomatoes',): 513, ('pancakes',): 713, ('grated cheese',): 393, ('escalope',): 595, ('ground beef',): 737, ('cake',): 608}, 2: {('eggs', 'mineral water'): 382, ('mineral water', 'spaghetti'): 448, ('chocolate', 'mineral water'): 395}}\n",
      "关联规则:  [{mineral water} -> {eggs}, {eggs} -> {mineral water}, {spaghetti} -> {mineral water}, {mineral water} -> {spaghetti}, {mineral water} -> {chocolate}, {chocolate} -> {mineral water}]\n"
     ]
    }
   ],
   "source": [
    "from efficient_apriori import apriori\n",
    "import numpy as np\n",
    "import pandas as pd\n",
    "\n",
    "#数据无表头，故设读取参数header=None\n",
    "dataset = pd.read_csv('Market_Basket_Optimisation.csv',header=None)\n",
    "#对数据进行处理，遍历每个数据将有效数据保存到transaction\n",
    "transaction = []\n",
    "for i in range(0,dataset.shape[0]):\n",
    "    temp=[]\n",
    "    for j in range(0,dataset.shape[1]):\n",
    "        if str(dataset.values[i,j]) != 'nan':\n",
    "            temp.append(str(dataset.values[i,j]))\n",
    "    transaction.append(temp)\n",
    "#列出频繁项集和频繁规则\n",
    "itemsets, rules = apriori(transaction, min_support=0.05, min_confidence=0.2)\n",
    "print('频繁项集：',itemsets)\n",
    "print('关联规则: ',rules)"
   ]
  },
  {
   "cell_type": "code",
   "execution_count": null,
   "metadata": {},
   "outputs": [],
   "source": []
  }
 ],
 "metadata": {
  "kernelspec": {
   "display_name": "Python 3",
   "language": "python",
   "name": "python3"
  },
  "language_info": {
   "codemirror_mode": {
    "name": "ipython",
    "version": 3
   },
   "file_extension": ".py",
   "mimetype": "text/x-python",
   "name": "python",
   "nbconvert_exporter": "python",
   "pygments_lexer": "ipython3",
   "version": "3.7.6"
  }
 },
 "nbformat": 4,
 "nbformat_minor": 4
}
