{
 "cells": [
  {
   "cell_type": "code",
   "execution_count": 1,
   "metadata": {},
   "outputs": [
    {
     "name": "stdout",
     "output_type": "stream",
     "text": [
      "语文、数学、英语平均成绩分别为： 86.2 81.0 76.6\n",
      "语文、数学、英语最好成绩分别为： 98 90 98\n",
      "语文、数学、英语最差成绩分别为： 68 65 30\n",
      "语文、数学、英语成绩方差分别为： 120.16 87.2 587.8399999999999\n",
      "语文、数学、英语成绩标准差分别为： 10.961751684835777 9.338094023943002 24.24541193710678\n"
     ]
    }
   ],
   "source": [
    "import numpy as np\n",
    "scoretype = np.dtype({'names':['name','Chinese','Math','English'],'formats':['S32','i','i','i']})#预先定义数据格式和类型\n",
    "people = np.array([('Zhangfei',68,65,30),('Guanyu',95,76,98),('Liubei',98,86,88),('Dianwei',90,88,77),('Xuchu',80,90,90)],dtype=scoretype)\n",
    "#提取所有人各科成绩\n",
    "ChineseScore = people['Chinese']\n",
    "MathScore = people['Math']\n",
    "EnglishScore = people['English']\n",
    "print('语文、数学、英语平均成绩分别为：',np.mean(ChineseScore),np.mean(MathScore),np.mean(EnglishScore))\n",
    "print('语文、数学、英语最好成绩分别为：',np.max(ChineseScore),np.max(MathScore),np.max(EnglishScore))\n",
    "print('语文、数学、英语最差成绩分别为：',np.min(ChineseScore),np.min(MathScore),np.min(EnglishScore))\n",
    "print('语文、数学、英语成绩方差分别为：',np.var(ChineseScore),np.var(MathScore),np.var(EnglishScore))\n",
    "print('语文、数学、英语成绩标准差分别为：',np.std(ChineseScore),np.std(MathScore),np.std(EnglishScore))\n"
   ]
  },
  {
   "cell_type": "code",
   "execution_count": 2,
   "metadata": {},
   "outputs": [
    {
     "name": "stdout",
     "output_type": "stream",
     "text": [
      "总成绩排名为： [(b'Liubei', 98, 86, 88), (b'Guanyu', 95, 76, 98), (b'Xuchu', 80, 90, 90), (b'Dianwei', 90, 88, 77), (b'Zhangfei', 68, 65, 30)]\n"
     ]
    }
   ],
   "source": [
    "ranking = sorted(people,key=lambda x:x[1]+x[2]+x[3],reverse=True)#根据计算总分的条件，按照从大到小进行排序，使用到lambda语句\n",
    "print('总成绩排名为：',ranking)"
   ]
  },
  {
   "cell_type": "code",
   "execution_count": null,
   "metadata": {},
   "outputs": [],
   "source": []
  }
 ],
 "metadata": {
  "kernelspec": {
   "display_name": "Python 3",
   "language": "python",
   "name": "python3"
  },
  "language_info": {
   "codemirror_mode": {
    "name": "ipython",
    "version": 3
   },
   "file_extension": ".py",
   "mimetype": "text/x-python",
   "name": "python",
   "nbconvert_exporter": "python",
   "pygments_lexer": "ipython3",
   "version": "3.7.6"
  }
 },
 "nbformat": 4,
 "nbformat_minor": 4
}
