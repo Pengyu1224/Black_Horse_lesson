{
 "cells": [
  {
   "cell_type": "code",
   "execution_count": 6,
   "metadata": {},
   "outputs": [
    {
     "name": "stdout",
     "output_type": "stream",
     "text": [
      "2+4+6....+100的和为 2550\n"
     ]
    }
   ],
   "source": [
    "#求2+4+6....+100的和\n",
    "#方法1使用for循环语句\n",
    "S1=0#初始值\n",
    "for i in range(2,101,2):\n",
    "    S1+=i\n",
    "print('2+4+6....+100的和为',S1)\n"
   ]
  },
  {
   "cell_type": "code",
   "execution_count": 7,
   "metadata": {},
   "outputs": [
    {
     "name": "stdout",
     "output_type": "stream",
     "text": [
      "2+4+6....+100的和为 2550\n"
     ]
    }
   ],
   "source": [
    "#方法2 使用sum函数\n",
    "S2=sum(range(2,101,2))\n",
    "print('2+4+6....+100的和为',S2)"
   ]
  }
 ],
 "metadata": {
  "kernelspec": {
   "display_name": "Python 3",
   "language": "python",
   "name": "python3"
  },
  "language_info": {
   "codemirror_mode": {
    "name": "ipython",
    "version": 3
   },
   "file_extension": ".py",
   "mimetype": "text/x-python",
   "name": "python",
   "nbconvert_exporter": "python",
   "pygments_lexer": "ipython3",
   "version": "3.7.6"
  }
 },
 "nbformat": 4,
 "nbformat_minor": 4
}
