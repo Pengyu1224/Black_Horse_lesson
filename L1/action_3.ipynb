{
 "cells": [
  {
   "cell_type": "code",
   "execution_count": 10,
   "metadata": {},
   "outputs": [
    {
     "name": "stdout",
     "output_type": "stream",
     "text": [
      "品牌投诉总数排名：          count\n",
      "brand         \n",
      "吉利汽车        96\n",
      "一汽马自达       95\n",
      "一汽-大众       52\n",
      "上汽大众        36\n",
      "一汽-大众奥迪     19\n",
      "...        ...\n",
      "开瑞汽车         1\n",
      "天津一汽         1\n",
      "凯翼汽车         1\n",
      "奇瑞新能源        1\n",
      "东风风行         1\n",
      "\n",
      "[75 rows x 1 columns]\n",
      "车型投诉总数排名            count\n",
      "car_model       \n",
      "阿特兹           75\n",
      "星越            43\n",
      "速腾            22\n",
      "马自达CX-4       20\n",
      "博越            13\n",
      "...          ...\n",
      "悦翔             1\n",
      "捷豹XEL          1\n",
      "捷豹XFL          1\n",
      "撼路者            1\n",
      "高尔夫（进口）        1\n",
      "\n",
      "[212 rows x 1 columns]\n",
      "平均车型投诉数品牌排名             count\n",
      "brand            \n",
      "一汽马自达   47.500000\n",
      "吉利汽车     9.600000\n",
      "一汽-大众    8.666667\n",
      "一汽大众     6.000000\n",
      "广汽丰田     5.666667\n",
      "...           ...\n",
      "宝马（进口）   1.000000\n",
      "凯翼汽车     1.000000\n",
      "一汽吉林     1.000000\n",
      "广汽乘用车    1.000000\n",
      "东南汽车     1.000000\n",
      "\n",
      "[75 rows x 1 columns]\n"
     ]
    }
   ],
   "source": [
    "import pandas as pd\n",
    "result=pd.read_csv('car_complain.csv')#导入数据到dataframe\n",
    "result=result.drop(columns='problem').join(result['problem'].str.get_dummies(','))#去除problem列，然后以逗号分隔不同问题代码然后作为列加入到原dataframe中\n",
    "df1=result.groupby('brand')['id'].agg(['count'])#按品牌分组后以投诉统计次数聚类\n",
    "print('品牌投诉总数排名：',df1.sort_values('count',ascending=False))\n",
    "df2=result.groupby('car_model')['id'].agg(['count'])#按车型分组后以投诉统计次数聚类\n",
    "print('车型投诉总数排名',df2.sort_values('count',ascending=False))\n",
    "df3=result.groupby(['brand','car_model'])['id'].agg(['count']).groupby('brand').mean()#按车型和品牌分组然后按统计次数聚类，然后再按照品牌分组并计算各品牌投诉统计次数平均值,mean（）函数会将不是数值的列‘车型’去掉\n",
    "print('平均车型投诉数品牌排名',df3.sort_values('count',ascending=False))\n"
   ]
  },
  {
   "cell_type": "code",
   "execution_count": null,
   "metadata": {},
   "outputs": [],
   "source": []
  }
 ],
 "metadata": {
  "kernelspec": {
   "display_name": "Python 3",
   "language": "python",
   "name": "python3"
  },
  "language_info": {
   "codemirror_mode": {
    "name": "ipython",
    "version": 3
   },
   "file_extension": ".py",
   "mimetype": "text/x-python",
   "name": "python",
   "nbconvert_exporter": "python",
   "pygments_lexer": "ipython3",
   "version": "3.7.6"
  }
 },
 "nbformat": 4,
 "nbformat_minor": 4
}
